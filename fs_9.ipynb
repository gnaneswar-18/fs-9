{
  "nbformat": 4,
  "nbformat_minor": 0,
  "metadata": {
    "colab": {
      "provenance": [],
      "mount_file_id": "1122Qj5P3QMRKGum4783pntFVSULGhqj3",
      "authorship_tag": "ABX9TyMHqxau6u2wPnYdvp5II9NU",
      "include_colab_link": true
    },
    "kernelspec": {
      "name": "python3",
      "display_name": "Python 3"
    },
    "language_info": {
      "name": "python"
    }
  },
  "cells": [
    {
      "cell_type": "markdown",
      "metadata": {
        "id": "view-in-github",
        "colab_type": "text"
      },
      "source": [
        "<a href=\"https://colab.research.google.com/github/gnaneswar-18/fs-9/blob/main/fs_9.ipynb\" target=\"_parent\"><img src=\"https://colab.research.google.com/assets/colab-badge.svg\" alt=\"Open In Colab\"/></a>"
      ]
    },
    {
      "cell_type": "code",
      "execution_count": null,
      "metadata": {
        "colab": {
          "base_uri": "https://localhost:8080/"
        },
        "id": "8YI7ZdDpHmba",
        "outputId": "5edb4f63-49f0-41a9-c2f7-ac99a2749085"
      },
      "outputs": [
        {
          "output_type": "stream",
          "name": "stdout",
          "text": [
            "(768, 8)\n"
          ]
        }
      ],
      "source": [
        "import pandas as pd\n",
        "data=pd.read_csv('/content/drive/MyDrive/Colab Notebooks/labs/diabetes.csv')\n",
        "x=data.drop(['Outcome'],axis=1)\n",
        "print(x.shape)\n",
        "y=data['Outcome']"
      ]
    },
    {
      "cell_type": "code",
      "source": [
        "from sklearn.model_selection import train_test_split\n",
        "from sklearn.tree import DecisionTreeClassifier\n",
        "from sklearn.metrics import accuracy_score\n",
        "\n",
        "\n",
        "dt_classifier = DecisionTreeClassifier(random_state=42)\n",
        "x_train, x_test, y_train, y_test = train_test_split(x, y, test_size=0.2, random_state=42)\n",
        "dt_classifier.fit(x_train, y_train)\n",
        "\n",
        "\n",
        "y_pred = dt_classifier.predict(x_test)\n",
        "\n",
        "\n",
        "accuracy = accuracy_score(y_test, y_pred)\n",
        "print(f\"Accuracy with all features: {accuracy * 100:.2f}%\")\n",
        "\n",
        "\n"
      ],
      "metadata": {
        "colab": {
          "base_uri": "https://localhost:8080/"
        },
        "id": "qGTdF5mZIFeU",
        "outputId": "25e9a9f3-cc22-4d28-9ba2-568f6adccf0f"
      },
      "execution_count": null,
      "outputs": [
        {
          "output_type": "stream",
          "name": "stdout",
          "text": [
            "Accuracy with all features: 74.68%\n"
          ]
        }
      ]
    },
    {
      "cell_type": "code",
      "source": [
        "from mlxtend.feature_selection import SequentialFeatureSelector as SFS\n",
        "\n",
        "sfs = SFS(dt_classifier,\n",
        "          k_features='best',\n",
        "          forward=False,\n",
        "          floating=False,\n",
        "          scoring='accuracy',\n",
        "          verbose=2)\n",
        "\n",
        "sfs.fit(x_train, y_train)\n",
        "selected_features = list(sfs.k_feature_names_)\n",
        "print(\"\\nSelected features:\", selected_features)\n"
      ],
      "metadata": {
        "colab": {
          "base_uri": "https://localhost:8080/"
        },
        "id": "dnwmuKVBI5NW",
        "outputId": "469cab1f-bc24-4bda-b6ba-b0b98ad94442"
      },
      "execution_count": null,
      "outputs": [
        {
          "output_type": "stream",
          "name": "stderr",
          "text": [
            "\n",
            "[2024-10-19 10:39:53] Features: 7/1 -- score: 0.7295615087298415\n",
            "[2024-10-19 10:39:53] Features: 6/1 -- score: 0.7343995735039316\n",
            "[2024-10-19 10:39:53] Features: 5/1 -- score: 0.7182327069172332\n",
            "[2024-10-19 10:39:54] Features: 4/1 -- score: 0.7035185925629749\n",
            "[2024-10-19 10:39:54] Features: 3/1 -- score: 0.7084766093562574\n",
            "[2024-10-19 10:39:54] Features: 2/1 -- score: 0.6905771024923364"
          ]
        },
        {
          "output_type": "stream",
          "name": "stdout",
          "text": [
            "\n",
            "Selected features: ['Glucose', 'BloodPressure', 'SkinThickness', 'BMI', 'DiabetesPedigreeFunction', 'Age']\n"
          ]
        },
        {
          "output_type": "stream",
          "name": "stderr",
          "text": [
            "\n",
            "[2024-10-19 10:39:54] Features: 1/1 -- score: 0.6856457417033186"
          ]
        }
      ]
    },
    {
      "cell_type": "code",
      "source": [
        "x_train_sfs = sfs.transform(x_train)\n",
        "x_test_sfs = sfs.transform(x_test)\n",
        "\n",
        "dt_classifier.fit(x_train_sfs, y_train)\n",
        "\n",
        "\n",
        "y_pred = dt_classifier.predict(x_test_sfs)\n",
        "\n",
        "\n",
        "accuracy = accuracy_score(y_test, y_pred)\n",
        "print(f\"Accuracy with selected features: {accuracy * 100:.2f}%\")\n",
        "\n",
        "\n",
        "optimal_num_features = len(selected_features)\n",
        "print(f\"Optimal number of features: {optimal_num_features}\")"
      ],
      "metadata": {
        "colab": {
          "base_uri": "https://localhost:8080/"
        },
        "id": "8zDJU0VhJTc6",
        "outputId": "e61f8173-8abd-477c-f27b-d6387d7190f1"
      },
      "execution_count": null,
      "outputs": [
        {
          "output_type": "stream",
          "name": "stdout",
          "text": [
            "Accuracy with selected features: 74.68%\n",
            "Optimal number of features: 6\n"
          ]
        }
      ]
    }
  ]
}